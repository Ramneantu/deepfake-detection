{
 "cells": [
  {
   "cell_type": "markdown",
   "metadata": {},
   "source": [
    "# FaceForensics Detection Using Spectral Analysis"
   ]
  },
  {
   "cell_type": "markdown",
   "metadata": {},
   "source": [
    "This notebook is heavily based on the work presented [here](https://github.com/cc-hpc-itwm/DeepFakeDetection). Please visit\n",
    "the original work for further information.\n",
    "\n",
    "Note that this is similar to what the authors included in their original repo. For our framework, we changed the implementation\n",
    "to make it as efficient and clean as possible.\n",
    "\n",
    "This notebook has the purpose of understanding the feature creation pipeline and it might not necessary lead to\n",
    "high accuracies."
   ]
  },
  {
   "cell_type": "markdown",
   "metadata": {},
   "source": [
    "### 1. Create feature"
   ]
  },
  {
   "cell_type": "markdown",
   "metadata": {},
   "source": [
    "First, make sure that you have a dataset with fakes and reals.\n"
   ]
  },
  {
   "cell_type": "markdown",
   "metadata": {
    "pycharm": {
     "name": "#%% md\n"
    }
   },
   "source": [
    "#### 1.1 Import the necessary libraries"
   ]
  },
  {
   "cell_type": "code",
   "execution_count": 58,
   "metadata": {},
   "outputs": [],
   "source": [
    "import cv2\n",
    "import numpy as np\n",
    "import libs.commons as com\n",
    "import glob\n",
    "from matplotlib import pyplot as plt\n",
    "import pickle\n",
    "from scipy.interpolate import griddata"
   ]
  },
  {
   "cell_type": "markdown",
   "metadata": {
    "pycharm": {
     "name": "#%% md\n"
    }
   },
   "source": [
    "#### 1.2. Set up the parameters for the spectral decomposition\n",
    "The parameters are:\n",
    "- data: dictionary that saves each image data and its label, 0 for fake and 1 for true\n",
    "- epsilon: small value added such that we won't have to compute log(0), which is not defined (see later Section x.)\n",
    "- N: final number of features used for classification\n",
    "- y: list for storing labels\n",
    "- error: list for storing error\n",
    "- number iter: number of images used"
   ]
  },
  {
   "cell_type": "code",
   "execution_count": 59,
   "metadata": {
    "pycharm": {
     "name": "#%%\n"
    }
   },
   "outputs": [],
   "source": [
    "epsilon = 1e-8\n",
    "N = 300\n",
    "mean = []\n",
    "error = []\n",
    "\n",
    "number_iter = 1000 # this is a small number of input files"
   ]
  },
  {
   "cell_type": "markdown",
   "metadata": {
    "pycharm": {
     "name": "#%% md\n"
    }
   },
   "source": [
    "Declare the following variables:\n",
    "- psd1D_total: Here we save the N features of each one of the $number\\_iter$ images after performing the spectral decomposition\n",
    "- label_total: save label for all images\n",
    "- psd1D_org_mean: result of computing the mean value for each feature\n",
    "- psd1D_org_std: result of computing the standard deviation for each feature"
   ]
  },
  {
   "cell_type": "code",
   "execution_count": 60,
   "metadata": {
    "pycharm": {
     "name": "#%%\n"
    }
   },
   "outputs": [],
   "source": [
    "psd1D_total = np.zeros([number_iter, N])\n",
    "label_total = np.zeros([number_iter])\n",
    "psd1D_org_mean = np.zeros(N)\n",
    "psd1D_org_std = np.zeros(N)"
   ]
  },
  {
   "cell_type": "markdown",
   "metadata": {
    "pycharm": {
     "name": "#%% md\n"
    }
   },
   "source": [
    "#### 1.4. Compute the spectral decomposition for each image\n",
    "**Attention!** You have to manually change the path for the\n",
    "\n",
    "First, load images and crop them. Next, compute the features.\n",
    "\n",
    "To compute the features:\n",
    "1. Compute the 2D FT of each image.\n",
    "2. Shift the zero-component to the center of the image using np.fftshit().\n",
    "3. Add epsilon to avoid log(0) later. This step is necessary for avoiding numerical issues in step 4.\n",
    "4. Compute magnitude spectrum:\n",
    "For this, use the formula for expressing magnitude in decibels. For reference check for example the [Matlab documentation](https://www.amazon.com/Useless-Magic-Lyrics-Florence-Welch/dp/0525577157/ref=tmm_hrd_swatch_0?_encoding=UTF8&qid=&sr=).\n",
    "5. Compute the Azimuthal Mean.\n",
    "6. Finally, use the computed averages and interpolate to get the N features\n",
    "\n",
    "\n",
    "**Don't forget that for now data paths are set manually**"
   ]
  },
  {
   "cell_type": "code",
   "execution_count": 61,
   "metadata": {
    "pycharm": {
     "name": "#%%\n"
    }
   },
   "outputs": [
    {
     "name": "stdout",
     "output_type": "stream",
     "text": [
      "Processed 0/1000 images\n",
      "Processed 50/1000 images\n",
      "Processed 100/1000 images\n",
      "Processed 150/1000 images\n",
      "Processed 200/1000 images\n",
      "Processed 250/1000 images\n",
      "Processed 300/1000 images\n",
      "Processed 350/1000 images\n",
      "Processed 400/1000 images\n",
      "Processed 450/1000 images\n",
      "Processed 500/1000 images\n",
      "Processed 550/1000 images\n",
      "Processed 600/1000 images\n",
      "Processed 650/1000 images\n",
      "Processed 700/1000 images\n",
      "Processed 750/1000 images\n",
      "Processed 800/1000 images\n",
      "Processed 850/1000 images\n",
      "Processed 900/1000 images\n",
      "Processed 950/1000 images\n",
      "Processed 1000/1000 images\n",
      "Finished processing\n"
     ]
    }
   ],
   "source": [
    "# counter for number of processed images\n",
    "cont = 0\n",
    "\n",
    "# fake data\n",
    "rootdir = '/home/cosmin/Desktop/XRay-dataset/train/fake'\n",
    "\n",
    "for filename in glob.glob(rootdir+\"/*\"):\n",
    "    img = cv2.imread(filename,0)\n",
    "\n",
    "    h = int(img.shape[0]/3)\n",
    "    w = int(img.shape[1]/3)\n",
    "    img = img[h:-h,w:-w]\n",
    "\n",
    "    f = np.fft.fft2(img)\n",
    "    fshift = np.fft.fftshift(f)\n",
    "    fshift += epsilon\n",
    "    \n",
    "    magnitude_spectrum = 20 * np.log(np.abs(fshift))\n",
    "    psd1D = com.azimuthal_average(magnitude_spectrum)\n",
    "\n",
    "    # Calculate the azimuthally averaged 1D power spectrum\n",
    "    points = np.linspace(0,N,num=psd1D.size) # coordinates of a\n",
    "    xi = np.linspace(0,N,num=N) # coordinates for interpolation\n",
    "\n",
    "    interpolated = griddata(points,psd1D,xi,method='cubic')\n",
    "    interpolated /= interpolated[0]\n",
    "\n",
    "\n",
    "    psd1D_total[cont,:] = interpolated             \n",
    "    label_total[cont] = 0\n",
    "    if cont % 50 == 0:\n",
    "        print(\"Processed {}/{} images\".format(cont, number_iter))\n",
    "\n",
    "    cont+=1\n",
    "\n",
    "    if cont == number_iter:\n",
    "        print(\"Processed {}/{} images\".format(cont, number_iter))\n",
    "        print(\"Finished processing\")\n",
    "        break"
   ]
  },
  {
   "cell_type": "markdown",
   "metadata": {
    "pycharm": {
     "name": "#%% md\n"
    }
   },
   "source": [
    "Now we can compute the mean and std for each feature using the values from each image"
   ]
  },
  {
   "cell_type": "code",
   "execution_count": 62,
   "metadata": {
    "pycharm": {
     "name": "#%%\n"
    }
   },
   "outputs": [],
   "source": [
    "for x in range(N):\n",
    "    psd1D_org_mean[x] = np.mean(psd1D_total[:,x])\n",
    "    psd1D_org_std[x]= np.std(psd1D_total[:,x])\n",
    "    "
   ]
  },
  {
   "cell_type": "markdown",
   "metadata": {
    "pycharm": {
     "name": "#%% md\n"
    }
   },
   "source": [
    "Moving on to processing the real data.\n",
    "\n",
    "**Attention:** you have to manually set the path to celebA"
   ]
  },
  {
   "cell_type": "code",
   "execution_count": 63,
   "metadata": {
    "pycharm": {
     "name": "#%%\n"
    }
   },
   "outputs": [
    {
     "name": "stdout",
     "output_type": "stream",
     "text": [
      "Processed 0/1000 images\n",
      "Processed 50/1000 images\n",
      "Processed 100/1000 images\n",
      "Processed 150/1000 images\n",
      "Processed 200/1000 images\n",
      "Processed 250/1000 images\n",
      "Processed 300/1000 images\n",
      "Processed 350/1000 images\n",
      "Processed 400/1000 images\n",
      "Processed 450/1000 images\n",
      "Processed 500/1000 images\n",
      "Processed 550/1000 images\n",
      "Processed 600/1000 images\n",
      "Processed 650/1000 images\n",
      "Processed 700/1000 images\n",
      "Processed 750/1000 images\n",
      "Processed 800/1000 images\n",
      "Processed 850/1000 images\n",
      "Processed 900/1000 images\n",
      "Processed 950/1000 images\n",
      "Finished processing\n"
     ]
    }
   ],
   "source": [
    "## real data\n",
    "psd1D_total2 = np.zeros([number_iter, N])\n",
    "label_total2 = np.zeros([number_iter])\n",
    "psd1D_org_mean2 = np.zeros(N)\n",
    "psd1D_org_std2 = np.zeros(N)\n",
    "\n",
    "cont = 0\n",
    "rootdir2 = '/home/cosmin/Desktop/XRay-dataset/train/real'\n",
    "\n",
    "for filename in glob.glob(rootdir2+\"/*\"):\n",
    "    img = cv2.imread(filename,0)\n",
    "\n",
    "    # we crop the center\n",
    "    h = int(img.shape[0]/3)\n",
    "    w = int(img.shape[1]/3)\n",
    "    img = img[h:-h,w:-w]\n",
    "\n",
    "    f = np.fft.fft2(img)\n",
    "    fshift = np.fft.fftshift(f)\n",
    "    fshift += epsilon\n",
    "\n",
    "    magnitude_spectrum = 20*np.log(np.abs(fshift))\n",
    "\n",
    "    # Calculate the azimuthally averaged 1D power spectrum\n",
    "    ret_value = com.azimuthal_average(magnitude_spectrum)\n",
    "    mid = ret_value.size // 2\n",
    "    psd1D = ret_value[mid:]\n",
    "\n",
    "    points = np.linspace(0,N,num=psd1D.size) # coordinates of a\n",
    "    xi = np.linspace(0,N,num=N) # coordinates for interpolation\n",
    "\n",
    "    interpolated = griddata(points,psd1D,xi,method='cubic')\n",
    "\n",
    "    interpolated /= interpolated[0]\n",
    "\n",
    "    psd1D_total2[cont,:] = interpolated             \n",
    "    label_total2[cont] = 1\n",
    "    if cont % 50 ==0:\n",
    "        print(\"Processed {}/{} images\".format(cont, number_iter))\n",
    "    cont+=1\n",
    "    \n",
    "    if cont == number_iter:\n",
    "        print(\"Finished processing\")\n",
    "        break"
   ]
  },
  {
   "cell_type": "markdown",
   "metadata": {
    "pycharm": {
     "name": "#%% md\n"
    }
   },
   "source": [
    "Compute mean and standard deviation:"
   ]
  },
  {
   "cell_type": "code",
   "execution_count": 64,
   "metadata": {
    "pycharm": {
     "name": "#%%\n"
    }
   },
   "outputs": [],
   "source": [
    "for x in range(N):\n",
    "    psd1D_org_mean2[x] = np.mean(psd1D_total2[:,x])\n",
    "    psd1D_org_std2[x]= np.std(psd1D_total2[:,x])"
   ]
  },
  {
   "cell_type": "markdown",
   "metadata": {
    "pycharm": {
     "name": "#%% md\n"
    }
   },
   "source": [
    "Save the computed values in a pickle object"
   ]
  },
  {
   "cell_type": "code",
   "execution_count": 65,
   "metadata": {
    "pycharm": {
     "name": "#%%\n"
    }
   },
   "outputs": [],
   "source": [
    "mean.append(psd1D_org_mean)\n",
    "mean.append(psd1D_org_mean2)\n",
    "error.append(psd1D_org_std)\n",
    "error.append(psd1D_org_std2)\n",
    "\n",
    "psd1D_total_final = np.concatenate((psd1D_total,psd1D_total2), axis=0)\n",
    "label_total_final = np.concatenate((label_total,label_total2), axis=0)\n",
    "\n",
    "X = psd1D_total_final\n",
    "y = label_total_final"
   ]
  },
  {
   "cell_type": "markdown",
   "metadata": {},
   "source": [
    "We look at the label distribution, to be sure that we have a balanced dataset."
   ]
  },
  {
   "cell_type": "code",
   "execution_count": 66,
   "metadata": {},
   "outputs": [
    {
     "data": {
      "text/plain": "<Figure size 432x288 with 1 Axes>",
      "image/png": "[encoded data removed]"
     },
     "metadata": {
      "needs_background": "light"
     },
     "output_type": "display_data"
    }
   ],
   "source": [
    "plt.plot(y)\n",
    "plt.show()"
   ]
  },
  {
   "cell_type": "markdown",
   "metadata": {},
   "source": [
    "### 3. Check Spectrum"
   ]
  },
  {
   "cell_type": "markdown",
   "metadata": {},
   "source": [
    "We have a look to the spectrum. First, we initialize our variables:"
   ]
  },
  {
   "cell_type": "code",
   "execution_count": 67,
   "metadata": {},
   "outputs": [],
   "source": [
    "# TODO: I think we can make this more pythonesque\n",
    "num = int(X.shape[0]/2)\n",
    "num_feat = X.shape[1]\n",
    "\n",
    "psd1D_org_0 = np.zeros((num,num_feat))\n",
    "psd1D_org_1 = np.zeros((num,num_feat))\n",
    "psd1D_org_0_mean = np.zeros(num_feat)\n",
    "psd1D_org_0_std = np.zeros(num_feat)\n",
    "psd1D_org_1_mean = np.zeros(num_feat)\n",
    "psd1D_org_1_std = np.zeros(num_feat)\n",
    "\n",
    "cont_0 = 0\n",
    "cont_1 = 0\n",
    "\n",
    "# We separate real and fake using the label\n",
    "for x in range(X.shape[0]):\n",
    "    if y[x]==0:\n",
    "        psd1D_org_0[cont_0,:] = X[x,:]\n",
    "        cont_0+=1\n",
    "    elif y[x]==1:\n",
    "        psd1D_org_1[cont_1,:] = X[x,:]\n",
    "        cont_1+=1"
   ]
  },
  {
   "cell_type": "markdown",
   "metadata": {
    "pycharm": {
     "name": "#%% md\n"
    }
   },
   "source": [
    "Next, we compute the statistics"
   ]
  },
  {
   "cell_type": "code",
   "execution_count": 68,
   "metadata": {
    "pycharm": {
     "name": "#%%\n"
    }
   },
   "outputs": [],
   "source": [
    "for x in range(num_feat):\n",
    "    psd1D_org_0_mean[x] = np.mean(psd1D_org_0[:,x])\n",
    "    psd1D_org_0_std[x]= np.std(psd1D_org_0[:,x])\n",
    "    psd1D_org_1_mean[x] = np.mean(psd1D_org_1[:,x])\n",
    "    psd1D_org_1_std[x]= np.std(psd1D_org_1[:,x])"
   ]
  },
  {
   "cell_type": "markdown",
   "metadata": {
    "pycharm": {
     "name": "#%% md\n"
    }
   },
   "source": [
    "Finally, we can plot the mean value and std of the frequency components"
   ]
  },
  {
   "cell_type": "code",
   "execution_count": 69,
   "metadata": {
    "pycharm": {
     "name": "#%%\n"
    }
   },
   "outputs": [
    {
     "data": {
      "text/plain": "Text(0, 0.5, 'Power Spectrum')"
     },
     "execution_count": 69,
     "metadata": {},
     "output_type": "execute_result"
    },
    {
     "data": {
      "text/plain": "<Figure size 1080x648 with 1 Axes>",
      "image/png": "[encoded data removed]"
     },
     "metadata": {
      "needs_background": "light"
     },
     "output_type": "display_data"
    }
   ],
   "source": [
    "# Plot\n",
    "x = np.arange(0, num_feat, 1)\n",
    "fig, ax = plt.subplots(figsize=(15, 9))\n",
    "ax.plot(x, psd1D_org_0_mean, alpha=0.5, color='red', label='Fake', linewidth =2.0)\n",
    "ax.fill_between(x, psd1D_org_0_mean - psd1D_org_0_std, psd1D_org_0_mean + psd1D_org_0_std, color='red', alpha=0.2)\n",
    "ax.plot(x, psd1D_org_1_mean, alpha=0.5, color='blue', label='Real', linewidth =2.0)\n",
    "ax.fill_between(x, psd1D_org_1_mean - psd1D_org_1_std, psd1D_org_1_mean + psd1D_org_1_std, color='blue', alpha=0.2)\n",
    "\n",
    "plt.tick_params(axis='x', labelsize=20)\n",
    "plt.tick_params(axis='y', labelsize=20)\n",
    "ax.legend(loc='best', prop={'size': 20})\n",
    "plt.xlabel(\"Spatial Frequency\", fontsize=20)\n",
    "plt.ylabel(\"Power Spectrum\", fontsize=20)\n",
    "#plt.savefig('1000_celeba.png', bbox_inches='tight')"
   ]
  },
  {
   "cell_type": "markdown",
   "metadata": {},
   "source": [
    "### 4. Classification"
   ]
  },
  {
   "cell_type": "markdown",
   "metadata": {},
   "source": [
    "Now we classify using the features."
   ]
  },
  {
   "cell_type": "markdown",
   "metadata": {
    "pycharm": {
     "name": "#%% md\n"
    }
   },
   "source": [
    "Set the next flag to true if you want to test with their dataset:"
   ]
  },
  {
   "cell_type": "code",
   "execution_count": 70,
   "outputs": [],
   "source": [
    "from sklearn.svm import SVC\n",
    "from sklearn.linear_model import LogisticRegression\n",
    "\n",
    "SVM_r = SVC(C=6.37, kernel='rbf', gamma=0.86)\n",
    "SVM_r.fit(X, y)\n",
    "\n",
    "# test\n",
    "# Please select a pickle files for testing\n",
    "pkl_file = open('./data/features/xray_test.pkl', 'rb')\n",
    "data = pickle.load(pkl_file)\n",
    "pkl_file.close()\n",
    "X_ = data[\"data\"]\n",
    "y_ = data[\"label\"]\n",
    "\n",
    "SVM = SVM_r.score(X_, y_)"
   ],
   "metadata": {
    "collapsed": false,
    "pycharm": {
     "name": "#%%\n"
    }
   }
  },
  {
   "cell_type": "markdown",
   "source": [
    "Results using the testset:"
   ],
   "metadata": {
    "collapsed": false,
    "pycharm": {
     "name": "#%% md\n"
    }
   }
  },
  {
   "cell_type": "code",
   "execution_count": 71,
   "outputs": [
    {
     "name": "stdout",
     "output_type": "stream",
     "text": [
      "SVM: 0.5\n"
     ]
    }
   ],
   "source": [
    "print(\"SVM: \"+str(SVM))\n",
    "\n"
   ],
   "metadata": {
    "collapsed": false,
    "pycharm": {
     "name": "#%%\n"
    }
   }
  }
 ],
 "metadata": {
  "kernelspec": {
   "display_name": "Python 3",
   "language": "python",
   "name": "python3"
  },
  "language_info": {
   "codemirror_mode": {
    "name": "ipython",
    "version": 3
   },
   "file_extension": ".py",
   "mimetype": "text/x-python",
   "name": "python",
   "nbconvert_exporter": "python",
   "pygments_lexer": "ipython3",
   "version": "3.8.8"
  }
 },
 "nbformat": 4,
 "nbformat_minor": 4
}